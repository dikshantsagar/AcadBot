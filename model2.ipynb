{
 "cells": [
  {
   "cell_type": "code",
   "execution_count": 26,
   "metadata": {},
   "outputs": [],
   "source": [
    "import numpy as np\n",
    "import pandas as pd\n",
    "import glob\n",
    "import re\n",
    "from collections import Counter\n",
    "import random\n",
    "from sklearn.feature_extraction.text import CountVectorizer\n",
    "import pickle\n",
    "from sklearn.naive_bayes import MultinomialNB"
   ]
  },
  {
   "cell_type": "code",
   "execution_count": 27,
   "metadata": {},
   "outputs": [],
   "source": [
    "t=0\n",
    "for i in glob.glob('data/*'):\n",
    "    data=[]\n",
    "    for j in glob.glob(i+'/*'):\n",
    "        with open(j, 'rb') as f:\n",
    "            lines = [l.decode('utf8', 'ignore') for l in f.readlines()]\n",
    "        data.append(' '.join(lines))\n",
    "    cv=CountVectorizer(analyzer='word')\n",
    "    X=cv.fit_transform(data)\n",
    "    Y=[i for i in range(len(glob.glob(i+'/*')))]\n",
    "    clf=MultinomialNB()\n",
    "    clf.fit(X,Y)\n",
    "    pickle.dump([clf,cv],open('models/model'+str(t),'wb'))\n",
    "    t+=1\n",
    "        "
   ]
  },
  {
   "cell_type": "code",
   "execution_count": null,
   "metadata": {},
   "outputs": [],
   "source": []
  }
 ],
 "metadata": {
  "kernelspec": {
   "display_name": "Python 3",
   "language": "python",
   "name": "python3"
  },
  "language_info": {
   "codemirror_mode": {
    "name": "ipython",
    "version": 3
   },
   "file_extension": ".py",
   "mimetype": "text/x-python",
   "name": "python",
   "nbconvert_exporter": "python",
   "pygments_lexer": "ipython3",
   "version": "3.7.4"
  }
 },
 "nbformat": 4,
 "nbformat_minor": 2
}
