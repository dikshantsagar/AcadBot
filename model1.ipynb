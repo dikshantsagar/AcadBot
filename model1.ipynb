{
 "cells": [
  {
   "cell_type": "code",
   "execution_count": 2,
   "metadata": {},
   "outputs": [],
   "source": [
    "import numpy as np\n",
    "import pandas as pd\n",
    "import glob\n",
    "import re\n",
    "from collections import Counter\n",
    "import random\n",
    "from sklearn.feature_extraction.text import CountVectorizer\n",
    "import pickle"
   ]
  },
  {
   "cell_type": "code",
   "execution_count": 3,
   "metadata": {},
   "outputs": [
    {
     "data": {
      "text/plain": [
       "['data/Registration/Adding or Dropping of Courses.txt',\n",
       " 'data/Registration/Teaching.txt',\n",
       " 'data/Registration/Academic Load.txt',\n",
       " 'data/Registration/Summer term registration.txt',\n",
       " 'data/Registration/Pre-registration of Courses.txt',\n",
       " 'data/Registration/Registration Procedure.txt',\n",
       " 'data/Registration/Registration.txt',\n",
       " 'data/Registration/Cancellation of registration.txt',\n",
       " 'data/Registration/Late Registration.txt',\n",
       " 'data/Registration/Registration of Students with BacklogCourse(s).txt',\n",
       " 'data/General/GENERAL.txt',\n",
       " 'data/Power to Modify/Power to Modify.txt',\n",
       " 'data/Academic Session and Calendar/Academic Session and Calendar.txt',\n",
       " 'data/Teaching and Evaluation/Extra courses.txt',\n",
       " 'data/Teaching and Evaluation/Performance Indicators.txt',\n",
       " 'data/Teaching and Evaluation/Transfer of Credits.txt',\n",
       " 'data/Teaching and Evaluation/UG students to repeat (Improvement) of a particular course.txt',\n",
       " 'data/Teaching and Evaluation/Continuing in the Program.txt',\n",
       " 'data/Teaching and Evaluation/Grade Improvement.txt',\n",
       " 'data/Teaching and Evaluation/Change of Grade Already Awarded.txt',\n",
       " 'data/Teaching and Evaluation/Extra credits.txt',\n",
       " 'data/Teaching and Evaluation/Grading Scheme.txt',\n",
       " 'data/Teaching and Evaluation/Continuous Evaluation System.txt',\n",
       " 'data/Admission/Cancellation of admission.txt',\n",
       " 'data/Admission/Number of Seats.txt',\n",
       " 'data/Admission/Admission criteria.txt',\n",
       " 'data/Admission/Reservations.txt',\n",
       " 'data/Admission/Foreign students.txt',\n",
       " 'data/Admission/Non-Degree students.txt',\n",
       " 'data/Admission/Offer of Admission.txt',\n",
       " 'data/Continuing in the Program/Academic Warning.txt',\n",
       " 'data/Continuing in the Program/Migration to Dual Degree Program.txt',\n",
       " 'data/Continuing in the Program/Branch Transfer.txt',\n",
       " 'data/Continuing in the Program/Appeals.txt',\n",
       " 'data/Continuing in the Program/Attendance and Leave of Absence.txt',\n",
       " 'data/Continuing in the Program/Rules for the first year.txt',\n",
       " 'data/Graduation Requirements and Award of Degree/Award of Degrees.txt',\n",
       " 'data/Graduation Requirements and Award of Degree/Graduation Requirements.txt',\n",
       " 'data/Graduation Requirements and Award of Degree/Minimum and Maximum Duration and Credits.txt',\n",
       " 'data/Graduation Requirements and Award of Degree/Graduating with Honors.txt',\n",
       " 'data/Graduation Requirements and Award of Degree/Convocation.txt',\n",
       " 'data/Graduation Requirements and Award of Degree/Graduating with a Minor.txt',\n",
       " 'data/Graduation Requirements and Award of Degree/Prizes and Medals.txt',\n",
       " 'data/Disciplinary Action/Disciplinary Action.txt',\n",
       " 'data/Courses and Credits/Courses and Credits.txt']"
      ]
     },
     "execution_count": 3,
     "metadata": {},
     "output_type": "execute_result"
    }
   ],
   "source": [
    "glob.glob('data/*/*')"
   ]
  },
  {
   "cell_type": "code",
   "execution_count": 4,
   "metadata": {},
   "outputs": [
    {
     "data": {
      "text/plain": [
       "['data/Registration',\n",
       " 'data/General',\n",
       " 'data/Power to Modify',\n",
       " 'data/Academic Session and Calendar',\n",
       " 'data/Teaching and Evaluation',\n",
       " 'data/Admission',\n",
       " 'data/Continuing in the Program',\n",
       " 'data/Graduation Requirements and Award of Degree',\n",
       " 'data/Disciplinary Action',\n",
       " 'data/Courses and Credits']"
      ]
     },
     "execution_count": 4,
     "metadata": {},
     "output_type": "execute_result"
    }
   ],
   "source": [
    "glob.glob('data/*')"
   ]
  },
  {
   "cell_type": "code",
   "execution_count": 5,
   "metadata": {},
   "outputs": [],
   "source": [
    "data=[]\n",
    "for i in glob.glob('data/*'):\n",
    "    li=[]\n",
    "    for j in glob.glob(i+'/*'):\n",
    "        with open(j, 'rb') as f:\n",
    "            lines = [l.decode('utf8', 'ignore') for l in f.readlines()]\n",
    "            li.append(' '.join(lines))\n",
    "    data.append(' '.join(li))"
   ]
  },
  {
   "cell_type": "code",
   "execution_count": 6,
   "metadata": {},
   "outputs": [
    {
     "data": {
      "text/plain": [
       "'A  student  can  change  the  courses  that  he/she  does  in  a  semester  by  adding  and  dropping courses till the last date  for add/drop as specified in the  academic  calendar.  In addition, a student can withdraw from at most one elective course up to the last date  specified in the academic calendar, which will normally be after the mid-semester examination. During the summer term, a student may be permitted to drop one course by the late drop date. \\r\\n Each  course  is  conducted  by  the  Instructor-in-charge  with  the  assistance  of  tutors  and/or teaching  assistants.The  Instructor-in-charge  is  responsible  for  conducting  the  lectures, tutorials,  and labs,  holding  the  tests  and  examinations,  evaluating  the  performance  of  the students,  awarding  grades  at  the  end  of  the  semester/summer  term,  and  transmitting  the grades to the DOAA�s office within the prescribed time limit.\\r\\n In  general, students  will  take  courses  as  per  the  program.  Normal  load  for the first  and second  year  students  is  16-20  credits  and  for the third  and  fourth  year  students  is  16-22 credits. When  a  student  registers  for  more  credits  than  the  stipulated  normal  load,  it  is  called  the overload. First  year  students cannot  take  any  overload.  Second  year  students  having  a CGPA of more than 8.0 can take an overload of upto 2 additional credits over 20 credits. Third and fourth year students having a CGPA of more than 8.0 can take an overload of upto 2 additional credits over 22 credits.When the student registers for less than 16 credits in a semester, it is called the underload. A student may be allowed, with permission of the DOAA an underloadof a maximum of 4 credits below 16 credits. Students under academic warning may not be permitted any  overload. Such students may be advised by DOAA to take an underload. Students  can  avail  underload  below  12  credits  (as  low  as  4  credits)  only  in  one  semester during  their  entire  B.Tech.program.  For  this,prior  permission  is  required  to  be  taken \\r\\n 8before  the  last  date  of  add/drop  of  that  particular  semester.  Students  wanting  to  avail internship  (industrial,  academic,  research,  etc.)  without  taking  semester  leave  can  do  so with  prior  approval  of  the  DOAA  in  only  one  semester  of  their  degree  program.  Such request  needs  to  be  placed  at  least  two  days  before  the  last  date  of  add/drop.  Students approved    for    such    internship    are    required    to    register    for    4    credits    of    only IP/IS/UR/BTP/OC courses in this semester. Students will not be allowed to do any in-class course  duringtheinternshipperiod.  Further,  the  underload  of  as  low  as  4  credits  can  be availed  by  ECE,  CSAM  and  CSSS  students  in  any  semester  of  the  3rdand  4thyear,  while CSE, CSD and CSB students can do soonly in the 8thSemeste Registering  in  the  summer  term  is  optional.  A  student  may  register  for  up  to 6credits  of courses that are offered during the summer term(inclusive of SG/CW credits).Out of these6credits, forstudents who have completedthe2ndyearof their B.Tech.  program,may be allowed to  take up  to4credits  for  IP/IS/UR/BTP.  Anexception  may  be  made  forthestudents  of  the  graduating  batch,who may  be  allowedto  takeup  to  8  credits.The registration  shall  be  done  just  before  the  start  of  the  term.  There  will  not  be  any  late registration  in  the  summer  term  and  a  student  shall  not  be  allowed  to  add  a  course  after registration.\\r\\n Pre-registration  is  necessary  part  of  the  academic  registration  for  non-first  semester students.  In case a student fails to do pre-registration of courses, a penalty may be imposed if the student does not register his/her preference within the stipulated period.\\r\\n 1)  Registration  will  generally  be  done  just  before  the  start  of  classes  in  a  semester.  Pre-registration  for  a  semester  can  be  done  toward  the  end  of  the  previous  semester.  Students will be informed about these dates and other details every semester. (2) Registration processhas two parts: academic and administrative,and bothof thesemust be completed in order to complete the registration process. Academic registration includes specifying  the  courses  that  the  student  wishes  to  do  in  the  semester  and  getting  the necessary approvals. Students can seek advice from Advisors nominated for the purpose by the DOAA. Administrative part includes paying all dues to the Institute (1)At the beginning of each semester, a student shall register for the courses he/she wishes to  take  in  that  semester.  A  student  shall  normally  be  allowed  to  register  for  a  course only if he/she has passed all the necessary pre-requisites for that course.(2)Registration is compulsory for all students who are not on leave of absence, and is the sole  responsibility  of  the  student  and  must  be  completed  before  the  last  date  of registration. Failure to register may lead to termination of the student for that semester A  student  is  solely  responsible  to  ensure  that  all  conditions  for  proper  registration  are satisfied,  and  there  are  no  timetable  clashes.  The  registration  may  be  cancelled  bytheDOAA for a course if any irregularity is found at a later stage.  A students registration for the  semester  may  be  cancelled  as  part  of  disciplinary  action.  Leave  beyond  permissible limits may also result in cancellation of registration for a semester.\\r\\n Late registration is permitted as per academic calendar on the payment of late registration fee. The late fee may be waived if the delay is due to an academic activity undertaken with prior permission. The number of days missed due to late arrival shall be treated as leave of absence. A fee for late academic registration may be imposed.\\r\\n A  student  has  a  backlog  if  he/she  has  not  taken  or  has  taken  but  failed  in  course(s)  of previous  semester(s).  The  registration  of  such  a  student  must  be  approved  by  the  DOAA who will advise the student. Generally, the student should register in a manner that he/she can clear as many backlog courses as are available. '"
      ]
     },
     "execution_count": 6,
     "metadata": {},
     "output_type": "execute_result"
    }
   ],
   "source": [
    "data[0]"
   ]
  },
  {
   "cell_type": "code",
   "execution_count": 7,
   "metadata": {},
   "outputs": [],
   "source": [
    "cv=CountVectorizer(analyzer='word')"
   ]
  },
  {
   "cell_type": "code",
   "execution_count": 8,
   "metadata": {},
   "outputs": [],
   "source": [
    "X=cv.fit_transform(data)"
   ]
  },
  {
   "cell_type": "code",
   "execution_count": 9,
   "metadata": {},
   "outputs": [],
   "source": [
    "Y=[i for i in range(10)]"
   ]
  },
  {
   "cell_type": "code",
   "execution_count": 10,
   "metadata": {},
   "outputs": [],
   "source": [
    "from sklearn.naive_bayes import MultinomialNB"
   ]
  },
  {
   "cell_type": "code",
   "execution_count": 11,
   "metadata": {},
   "outputs": [],
   "source": [
    "clf=MultinomialNB()"
   ]
  },
  {
   "cell_type": "code",
   "execution_count": 12,
   "metadata": {},
   "outputs": [
    {
     "data": {
      "text/plain": [
       "MultinomialNB(alpha=1.0, class_prior=None, fit_prior=True)"
      ]
     },
     "execution_count": 12,
     "metadata": {},
     "output_type": "execute_result"
    }
   ],
   "source": [
    "clf.fit(X,Y)"
   ]
  },
  {
   "cell_type": "code",
   "execution_count": 13,
   "metadata": {},
   "outputs": [],
   "source": [
    "predictdict={}\n",
    "t=0\n",
    "for i in glob.glob('data/*'):\n",
    "    path=i.split('/')[1]\n",
    "    predictdict[t]=path\n",
    "    t+=1"
   ]
  },
  {
   "cell_type": "code",
   "execution_count": 14,
   "metadata": {},
   "outputs": [
    {
     "data": {
      "text/plain": [
       "{0: 'Registration',\n",
       " 1: 'General',\n",
       " 2: 'Power to Modify',\n",
       " 3: 'Academic Session and Calendar',\n",
       " 4: 'Teaching and Evaluation',\n",
       " 5: 'Admission',\n",
       " 6: 'Continuing in the Program',\n",
       " 7: 'Graduation Requirements and Award of Degree',\n",
       " 8: 'Disciplinary Action',\n",
       " 9: 'Courses and Credits'}"
      ]
     },
     "execution_count": 14,
     "metadata": {},
     "output_type": "execute_result"
    }
   ],
   "source": [
    "predictdict"
   ]
  },
  {
   "cell_type": "code",
   "execution_count": 15,
   "metadata": {},
   "outputs": [],
   "source": [
    "pickle.dump([clf,cv],open('models/model.obj','wb'))"
   ]
  },
  {
   "cell_type": "code",
   "execution_count": 16,
   "metadata": {},
   "outputs": [
    {
     "data": {
      "text/plain": [
       "[0, 1, 2, 3, 4, 5, 6, 7, 8, 9]"
      ]
     },
     "execution_count": 16,
     "metadata": {},
     "output_type": "execute_result"
    }
   ],
   "source": [
    "Y"
   ]
  },
  {
   "cell_type": "code",
   "execution_count": null,
   "metadata": {},
   "outputs": [],
   "source": []
  }
 ],
 "metadata": {
  "kernelspec": {
   "display_name": "Python 3",
   "language": "python",
   "name": "python3"
  },
  "language_info": {
   "codemirror_mode": {
    "name": "ipython",
    "version": 3
   },
   "file_extension": ".py",
   "mimetype": "text/x-python",
   "name": "python",
   "nbconvert_exporter": "python",
   "pygments_lexer": "ipython3",
   "version": "3.7.4"
  }
 },
 "nbformat": 4,
 "nbformat_minor": 2
}
