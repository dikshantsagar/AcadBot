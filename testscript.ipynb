{
 "cells": [
  {
   "cell_type": "code",
   "execution_count": 63,
   "metadata": {},
   "outputs": [],
   "source": [
    "import numpy as np\n",
    "import pandas as pd\n",
    "import glob\n",
    "import re\n",
    "from collections import Counter\n",
    "import random\n",
    "from sklearn.feature_extraction.text import CountVectorizer\n",
    "import pickle"
   ]
  },
  {
   "cell_type": "code",
   "execution_count": 64,
   "metadata": {},
   "outputs": [],
   "source": [
    "predictdict={}\n",
    "t=0\n",
    "for i in glob.glob('data/*'):\n",
    "    path=i.split('/')[1]\n",
    "    predictdict[t]=path\n",
    "    t+=1\n"
   ]
  },
  {
   "cell_type": "code",
   "execution_count": 65,
   "metadata": {},
   "outputs": [],
   "source": [
    "string='hi i want to know how will i get all my credits ?'"
   ]
  },
  {
   "cell_type": "code",
   "execution_count": 66,
   "metadata": {},
   "outputs": [],
   "source": [
    "pair=pickle.load(open('models/model.obj','rb'))"
   ]
  },
  {
   "cell_type": "code",
   "execution_count": 67,
   "metadata": {},
   "outputs": [],
   "source": [
    "model=pair[0]\n",
    "cvec=pair[1]"
   ]
  },
  {
   "cell_type": "code",
   "execution_count": 68,
   "metadata": {},
   "outputs": [],
   "source": [
    "test=cvec.transform([string])"
   ]
  },
  {
   "cell_type": "code",
   "execution_count": 69,
   "metadata": {},
   "outputs": [],
   "source": [
    "cat=model.predict(test).astype('int')[0]"
   ]
  },
  {
   "cell_type": "code",
   "execution_count": 70,
   "metadata": {},
   "outputs": [
    {
     "data": {
      "text/plain": [
       "4"
      ]
     },
     "execution_count": 70,
     "metadata": {},
     "output_type": "execute_result"
    }
   ],
   "source": [
    "cat"
   ]
  },
  {
   "cell_type": "code",
   "execution_count": 71,
   "metadata": {},
   "outputs": [
    {
     "data": {
      "text/plain": [
       "'Teaching and Evaluation'"
      ]
     },
     "execution_count": 71,
     "metadata": {},
     "output_type": "execute_result"
    }
   ],
   "source": [
    "predictdict[cat]"
   ]
  },
  {
   "cell_type": "code",
   "execution_count": 72,
   "metadata": {},
   "outputs": [
    {
     "data": {
      "text/plain": [
       "['data/Registration',\n",
       " 'data/General',\n",
       " 'data/Power to Modify',\n",
       " 'data/Academic Session and Calendar',\n",
       " 'data/Teaching and Evaluation',\n",
       " 'data/Admission',\n",
       " 'data/Continuing in the Program',\n",
       " 'data/Graduation Requirements and Award of Degree',\n",
       " 'data/Disciplinary Action',\n",
       " 'data/Courses and Credits']"
      ]
     },
     "execution_count": 72,
     "metadata": {},
     "output_type": "execute_result"
    }
   ],
   "source": [
    "glob.glob('data/*')"
   ]
  },
  {
   "cell_type": "code",
   "execution_count": 73,
   "metadata": {},
   "outputs": [],
   "source": [
    "modelpath='models/model'+str(cat)\n",
    "model2,cvec2=pickle.load(open(modelpath,'rb'))"
   ]
  },
  {
   "cell_type": "code",
   "execution_count": 74,
   "metadata": {},
   "outputs": [],
   "source": [
    "X=cvec2.transform([string])"
   ]
  },
  {
   "cell_type": "code",
   "execution_count": null,
   "metadata": {},
   "outputs": [],
   "source": []
  },
  {
   "cell_type": "code",
   "execution_count": 75,
   "metadata": {},
   "outputs": [],
   "source": [
    "cat2=model2.predict(X).astype(int)[0]"
   ]
  },
  {
   "cell_type": "code",
   "execution_count": 76,
   "metadata": {},
   "outputs": [],
   "source": [
    "filepath=glob.glob(glob.glob('data/*')[cat]+'/*')[cat2]"
   ]
  },
  {
   "cell_type": "code",
   "execution_count": 78,
   "metadata": {},
   "outputs": [
    {
     "name": "stdout",
     "output_type": "stream",
     "text": [
      "B.Tech. students are allowed to do extra credits\" beyond 156 credits required for completion of B.Tech. requirement. For N extra  credits done, the student will be allowed worst grades in N credits, with a maximum limit of at most 8 credits, to be  not  counted  towards  CGPA  computation.  The  impact  of  this  decision  will  be reviewed  after  two  batches  have  graduated  with  this  option.  Following  method will be used for calculating the CGPA:Method: The below method will automatically decide which extra credits will not be counted in CGPA:\r\n",
      " 12?For CGPA computation at the end of 6th semester, baseline credits will be 116(equal to 29 full courses including OCbut excluding SG & CW). If a student has done N credits more than 116,then for CGPA computation the following will be done:-The worst grades in courses totaling M credits will be \"removed\", where M=min{8, N}. -CGPA  will  be  computed  based  on  the  remaining  credits.  It  is  to  be  noted  thatsince OCsare with S/X Grades, although they will be included in baseline 116credits, they will not be counted in CGPA. For example,if a student has done 120 credits including OC  of  4  credits,  CGPA  will  be  computed  from  best  grades  corresponding  to112 credits.?For  CGPA  computation  at  the  end  of  7th  semester,  baseline  credits  will  be  136(including OC but excluding SG & CW).?CGPA  computation  for  Honors  students  at  the  end  of  8thsemester  will  done similar to a non-Honors student,i.e.,he will be allowed to not-count worst grades of  courses  upto  8  credits. For  example,if  a  student  has  done  164  credits (excluding  SG/CW  credits)  including  OC  of  4  credits,  CGPA  will  be  computed from best grades corresponding to 152 credits.\r\n",
      "\n"
     ]
    }
   ],
   "source": [
    "with open(filepath, 'rb') as f:\n",
    "    lines = [l.decode('utf8', 'ignore') for l in f.readlines()]\n",
    "    print(' '.join(lines))"
   ]
  },
  {
   "cell_type": "code",
   "execution_count": null,
   "metadata": {},
   "outputs": [],
   "source": []
  }
 ],
 "metadata": {
  "kernelspec": {
   "display_name": "Python 3",
   "language": "python",
   "name": "python3"
  },
  "language_info": {
   "codemirror_mode": {
    "name": "ipython",
    "version": 3
   },
   "file_extension": ".py",
   "mimetype": "text/x-python",
   "name": "python",
   "nbconvert_exporter": "python",
   "pygments_lexer": "ipython3",
   "version": "3.7.4"
  }
 },
 "nbformat": 4,
 "nbformat_minor": 2
}
